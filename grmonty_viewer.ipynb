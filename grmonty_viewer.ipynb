{
 "cells": [
  {
   "cell_type": "code",
   "execution_count": 1,
   "metadata": {
    "collapsed": false
   },
   "outputs": [
    {
     "name": "stdout",
     "output_type": "stream",
     "text": [
      "Using matplotlib backend: TkAgg\n",
      "Populating the interactive namespace from numpy and matplotlib\n",
      "ben_config loaded\n",
      "Available constants:\n",
      "  CL, QE, ME, MP, MN, HPL, HBAR, KBOL, GNEWT, SIG, AR, THOMSON,\n",
      "  JY, PC, AU, YEAR, DAY, HOUR, MSOLAR, RSOLAR, LSOLAR\n",
      "Available functions:\n",
      "  latexify(mpl)\n",
      "  planck(nu, Thetae) \n",
      "  TwoPointCorrelationFunction_2D(dataslice[Ny][Nx], Ny, Nx)\n"
     ]
    }
   ],
   "source": [
    "%pylab\n",
    "import matplotlib\n",
    "import numpy\n",
    "try:\n",
    "  ben\n",
    "except NameError:\n",
    "  import ben_config as ben\n",
    "else:\n",
    "  ben = reload(ben)\n",
    "ben.latexify(matplotlib)"
   ]
  },
  {
   "cell_type": "code",
   "execution_count": 6,
   "metadata": {
    "collapsed": false
   },
   "outputs": [
    {
     "name": "stdout",
     "output_type": "stream",
     "text": [
      "/home/bryan10/Documents/afd-illinois/igrmonty2d/grmonty.spec\n"
     ]
    }
   ],
   "source": [
    "# Parameter choices (MAKE SURE THEY'RE CONSISTENT WITH GRMONTY!!!)\n",
    "MBH      = 3.6e6 # Sgr A*\n",
    "M_unit   = 2.e19\n",
    "gamma    = 13./9.\n",
    "TPOVERTE = 1.\n",
    "\n",
    "# More units, and such\n",
    "Msolar      = ben.MSOLAR\n",
    "Lsolar      = ben.LSOLAR\n",
    "G           = ben.GNEWT\n",
    "c           = ben.CL\n",
    "mp          = ben.MP \n",
    "me          = ben.ME\n",
    "kb          = ben.KBOL\n",
    "h           = ben.HPL\n",
    "MBH         = MBH*Msolar\n",
    "L_unit      = G*MBH/c**2.\n",
    "T_unit      = L_unit/c\n",
    "RHO_unit    = M_unit/L_unit**3.\n",
    "U_unit      = RHO_unit*c**2.\n",
    "LEdd        = 4.*pi*G*mp*c/ben.SIG*MBH\n",
    "mEdd        = LEdd/(0.1*c**2.) # Includes nominal efficiency\n",
    "thetae_unit = (gamma - 1.)*(mp/me)*1./(1. + TPOVERTE);\n",
    "JY          = ben.JY\n",
    "parsec      = ben.PC\n",
    "\n",
    "\n",
    "# Folder where data is stored\n",
    "folder = '/PATH/TO/igrmonty2d/'\n",
    "\n",
    "# Load spectral info\n",
    "fileName = 'grmonty.spec'\n",
    "specData = loadtxt(folder+fileName)\n",
    "print (folder+fileName)"
   ]
  },
  {
   "cell_type": "code",
   "execution_count": 8,
   "metadata": {
    "collapsed": false
   },
   "outputs": [],
   "source": [
    "# Prepare reduced arrays\n",
    "#numVars = 6 # Number of variables per theta bin\n",
    "numVars = 7 # igrmonty - Number of variables per theta bin\n",
    "numThetaBins = (len(specData[0])-1)/numVars\n",
    "x2 = linspace(0, 0.5, numThetaBins)\n",
    "hs = 0.3\n",
    "theta = pi*x2 + (1.-hs)/2.*sin(2.*pi*x2)\n",
    "\n",
    "energy = specData[:,0]\n",
    "nu = 10.**(energy)*me*c**2./h\n",
    "nuLnu = [[],[],[],[],[],[],[],[],[],[]]\n",
    "nuFnu = [[],[],[],[],[],[],[],[],[],[]]\n",
    "for i in xrange(len(energy)):\n",
    "    for j in xrange(numThetaBins):\n",
    "        nuLnu[j].append(specData[i][1+numVars*j]*Lsolar)"
   ]
  },
  {
   "cell_type": "code",
   "execution_count": 18,
   "metadata": {
    "collapsed": false
   },
   "outputs": [
    {
     "name": "stdout",
     "output_type": "stream",
     "text": [
      "theta = 9.000000e+01 degrees\n"
     ]
    },
    {
     "data": {
      "text/plain": [
       "(100000000.0, 1e+25)"
      ]
     },
     "execution_count": 18,
     "metadata": {},
     "output_type": "execute_result"
    }
   ],
   "source": [
    "clf()\n",
    "binNumber = 5\n",
    "print 'theta = %e degrees' % (180/pi*theta[binNumber])\n",
    "step(nu, nuLnu[binNumber], color='k')\n",
    "xscale('log'); yscale('log')\n",
    "xlabel('$\\\\nu~(\\\\mathrm{Hz})$'); ylabel('$\\\\nu L_{\\\\nu}~(\\\\mathrm{erg~s}^{-1})$')\n",
    "xlim([1.e8, 1.e25])\n",
    "#ylim([1.e30, 1.e35])"
   ]
  },
  {
   "cell_type": "code",
   "execution_count": 19,
   "metadata": {
    "collapsed": false
   },
   "outputs": [
    {
     "data": {
      "text/plain": [
       "<matplotlib.text.Text at 0x7fdf727fc0d0>"
      ]
     },
     "execution_count": 19,
     "metadata": {},
     "output_type": "execute_result"
    }
   ],
   "source": [
    "# Overlay frequency bands\n",
    "alph = 0.3\n",
    "fill_between([3.e16, 3.e19], 1.e-9, 1.e50, facecolor='blue', alpha=alph)\n",
    "fill_between([300.e4, 300.e9], 1.e-9, 1.e50, facecolor='g', alpha=alph)\n",
    "fill_between([300.e9, 379.e12], 1.e-9, 1.e50, facecolor='red', alpha=alph)\n",
    "fill_between([380.e12, 750.e12], 1.e-9, 1.e50, facecolor='k', alpha=alph)\n",
    "fill_between([750.e12, 3.e16], 1.e-9, 1.e50, facecolor='purple', alpha=alph)\n",
    "fill_between([3.e19, 3.e26], 1.e-9, 1.e50, facecolor='teal', alpha=alph)\n",
    "text(4.e8, 4.e41, 'Microwave',fontsize=20, color='k')\n",
    "text(5.e12, 4.e41, 'IR',fontsize=20, color='k')\n",
    "text(2.e15, 4.e41, 'UV',fontsize=20, color='k')\n",
    "text(2.e17, 4.e41, 'X-ray',fontsize=20, color='k')\n",
    "text(5.e21, 4.e41, '$\\\\gamma$-ray',fontsize=20, color='k')"
   ]
  },
  {
   "cell_type": "code",
   "execution_count": 31,
   "metadata": {
    "collapsed": false
   },
   "outputs": [
    {
     "data": {
      "text/plain": [
       "<matplotlib.colorbar.Colorbar instance at 0x7fdf71fe7488>"
      ]
     },
     "execution_count": 31,
     "metadata": {},
     "output_type": "execute_result"
    }
   ],
   "source": [
    "# Plot fluid data\n",
    "N1 = 256; N2 = 256;\n",
    "fluidfile = loadtxt(folder + 'iharm', skiprows=1)\n",
    "x1     = resize(fluidfile[:, 0],  [N1, N2])\n",
    "x2     = resize(fluidfile[:, 1],  [N1, N2])\n",
    "r      = resize(fluidfile[:, 2],  [N1, N2])\n",
    "theta  = resize(fluidfile[:, 3],  [N1, N2])\n",
    "x      = r*sin(theta)\n",
    "z      = r*cos(theta)\n",
    "rho       = resize(fluidfile[:, 4],    [N1, N2])\n",
    "clf()\n",
    "plt.contourf(x[:, :], z[:, :], log10(rho[:, :]*RHO_unit), 100)\n",
    "plt.axes().set_aspect('equal'); xlabel('$x~(M)$'); ylabel('$z~(M)$'); title('$\\\\rho~(\\\\mathrm{g}~\\\\mathrm{cm}^{-3})$')\n",
    "colorbar()"
   ]
  },
  {
   "cell_type": "code",
   "execution_count": null,
   "metadata": {
    "collapsed": true
   },
   "outputs": [],
   "source": []
  }
 ],
 "metadata": {
  "kernelspec": {
   "display_name": "Python 2",
   "language": "python",
   "name": "python2"
  },
  "language_info": {
   "codemirror_mode": {
    "name": "ipython",
    "version": 2
   },
   "file_extension": ".py",
   "mimetype": "text/x-python",
   "name": "python",
   "nbconvert_exporter": "python",
   "pygments_lexer": "ipython2",
   "version": "2.7.6"
  }
 },
 "nbformat": 4,
 "nbformat_minor": 0
}
