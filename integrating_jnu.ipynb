{
 "metadata": {
  "name": ""
 },
 "nbformat": 3,
 "nbformat_minor": 0,
 "worksheets": [
  {
   "cells": [
    {
     "cell_type": "code",
     "collapsed": false,
     "input": [
      "%matplotlib inline\n",
      "import numpy as np\n",
      "import pylab as pl\n",
      "import scipy.special as special\n",
      "from scipy.integrate import nquad\n",
      "\n",
      "#we now want to evaluate the integral for j_nu\n",
      "#for particular values of the parameters\n",
      "\n",
      "\n",
      "#constants in natural units\n",
      "m = 1.\n",
      "c = 1.\n",
      "theta_e = 10.\n",
      "e = 1\n",
      "B = 10\n",
      "nu_c = (e * B)/(2 * np.pi * m * c)\n",
      "\n",
      "#constants in Gaussian cgs units (values from harmony)\n",
      "#m = 9.1e-28\n",
      "#c = 3e10\n",
      "#theta_e = 5.8e10\n",
      "#nu_c = 8.4e7\n",
      "#nu = 5e7\n",
      "\n",
      "\n",
      "#variables to be set (frequency, observer angle, width of delta function, electron number density, \n",
      "# sum index n)\n",
      "nu = 1\n",
      "theta = np.pi/3.\n",
      "epsilon = 0.01\n",
      "n_e = 1\n",
      "#gamma = 1\n",
      "#beta = np.sqrt(1. - 1./gamma**2.)\n",
      "    \n",
      "def delta_function(n, gamma, xi):\n",
      "    beta = np.sqrt(1. - 1./gamma**2.)\n",
      "    argument = (n * nu_c)/gamma - nu * (1 - beta * np.cos(xi) * np.cos(theta))\n",
      "    f = (1/(epsilon * np.sqrt(np.pi))) * np.exp(-argument**2./epsilon**2.)\n",
      "    return f\n",
      "\n",
      "def K_s(n, gamma, xi):\n",
      "    beta = np.sqrt(1. - 1./gamma**2.)\n",
      "    M = (np.cos(theta) - beta * np.cos(xi))/np.sin(theta)\n",
      "    N = beta * np.sin(xi)\n",
      "    z = (nu * gamma * beta * np.sin(theta) * np.sin(xi))/nu_c\n",
      "    f = M**2. * (special.jv(n, z))**2. + N**2. * (special.jvp(n, z, 1))**2.\n",
      "    return f\n",
      "\n",
      "def jnu_integrand(n, gamma, xi):\n",
      "    prefactor = (np.pi * e**2. * nu**2. * n_e)/(c * theta_e * special.kn(2., 1./theta_e))\n",
      "    MJ_f = gamma * np.sqrt(gamma**2. - 1.) * np.exp(-gamma/theta_e)\n",
      "    f = prefactor * MJ_f * delta_function(n, gamma, xi) * K_s(n, gamma, xi)\n",
      "    return f\n",
      "\n"
     ],
     "language": "python",
     "metadata": {},
     "outputs": [],
     "prompt_number": 10
    },
    {
     "cell_type": "code",
     "collapsed": false,
     "input": [
      "#integrating jnu_integrand with respect to gamma and cos(xi)\n",
      "\n",
      "print nquad(lambda gamma, xi: jnu_integrand(1, gamma, np.cos(xi)), [[1, np.inf], [-1, 1]])"
     ],
     "language": "python",
     "metadata": {},
     "outputs": [
      {
       "output_type": "stream",
       "stream": "stdout",
       "text": [
        "(0.0028111823767863705, 8.511593187196845e-09)\n"
       ]
      }
     ],
     "prompt_number": 14
    },
    {
     "cell_type": "code",
     "collapsed": false,
     "input": [],
     "language": "python",
     "metadata": {},
     "outputs": [],
     "prompt_number": 25
    }
   ],
   "metadata": {}
  }
 ]
}