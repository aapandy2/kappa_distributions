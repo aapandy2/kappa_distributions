{
 "metadata": {
  "name": ""
 },
 "nbformat": 3,
 "nbformat_minor": 0,
 "worksheets": [
  {
   "cells": [
    {
     "cell_type": "code",
     "collapsed": false,
     "input": [
      "%matplotlib inline\n",
      "import numpy as np\n",
      "import pylab as pl\n",
      "import scipy.special as special\n",
      "from scipy.integrate import nquad\n",
      "from scipy.integrate import quad\n",
      "\n",
      "# Set plot parameters to make beautiful plots\n",
      "pl.rcParams['figure.figsize']  = 12, 7.5\n",
      "pl.rcParams['lines.linewidth'] = 1.5\n",
      "pl.rcParams['font.family']     = 'serif'\n",
      "pl.rcParams['font.weight']     = 'bold'\n",
      "pl.rcParams['font.size']       = 20  \n",
      "pl.rcParams['font.sans-serif'] = 'serif'\n",
      "#pl.rcParams['text.usetex']     = True\n",
      "pl.rcParams['axes.linewidth']  = 1.5\n",
      "pl.rcParams['axes.titlesize']  = 'medium'\n",
      "pl.rcParams['axes.labelsize']  = 'medium'\n",
      "\n",
      "pl.rcParams['xtick.major.size'] = 8     \n",
      "pl.rcParams['xtick.minor.size'] = 4     \n",
      "pl.rcParams['xtick.major.pad']  = 8     \n",
      "pl.rcParams['xtick.minor.pad']  = 8     \n",
      "pl.rcParams['xtick.color']      = 'k'     \n",
      "pl.rcParams['xtick.labelsize']  = 'medium'\n",
      "pl.rcParams['xtick.direction']  = 'in'    \n",
      "\n",
      "pl.rcParams['ytick.major.size'] = 8     \n",
      "pl.rcParams['ytick.minor.size'] = 4     \n",
      "pl.rcParams['ytick.major.pad']  = 8     \n",
      "pl.rcParams['ytick.minor.pad']  = 8     \n",
      "pl.rcParams['ytick.color']      = 'k'     \n",
      "pl.rcParams['ytick.labelsize']  = 'medium'\n",
      "pl.rcParams['ytick.direction']  = 'in'    "
     ],
     "language": "python",
     "metadata": {},
     "outputs": [],
     "prompt_number": 62
    },
    {
     "cell_type": "code",
     "collapsed": false,
     "input": [
      "#parameters\n",
      "m = 9.1093826e-28\n",
      "c = 2.99792458e10\n",
      "theta_e = 10.\n",
      "e = 4.80320680e-10\n",
      "B = 30.\n",
      "#n_e = 1.e5\n",
      "nu_c = (e * B)/(2 * np.pi * m * c)\n",
      "\n",
      "#variables to be set (frequency, observer angle, width of delta function, electron number density, \n",
      "# sum index n)\n",
      "nu = 1. * nu_c\n",
      "theta = np.pi / 3\n",
      "epsilon = 0.01\n",
      "n_e = 1.\n",
      "nu_s = (2./9.) * nu_c * theta_e**2. * np.sin(theta)\n",
      "\n",
      "kappa = 3.5\n",
      "w = 10.\n",
      "nu_w = (w*kappa)**2. * nu_c * np.sin(theta)\n",
      "nuratio = np.arange(1., 3.981e6, 100)"
     ],
     "language": "python",
     "metadata": {},
     "outputs": [],
     "prompt_number": 66
    },
    {
     "cell_type": "code",
     "collapsed": false,
     "input": [
      "kappa_data = np.loadtxt('/home/alex/1.txt')\n",
      "x = kappa_data[:, 0]\n",
      "y = kappa_data[:, 1]\n",
      "\n",
      "def kappa_low(nuratio):\n",
      "    nu = nuratio * nu_c\n",
      "    X = nu/nu_w\n",
      "    norm = 4. * np.pi * special.gamma(kappa-4./3.) / (3.**(7./3.) * special.gamma(kappa-2.))\n",
      "    dimensional = (n_e * e**2.)/(c * kappa**2. * w**2.)\n",
      "    ans = norm * dimensional * nu_w * X**(1./3.)\n",
      "    return ans\n",
      "\n",
      "def kappa_high(nuratio):\n",
      "    nu = nuratio * nu_c\n",
      "    X = nu/nu_w\n",
      "    term1 = (1./4.) * 3.**((kappa-1.)/2.) * (kappa-2.) * (kappa-1.)\n",
      "    term2 = special.gamma(kappa/4. - 1./3.) * special.gamma(kappa/4. + 4./3.) \n",
      "    term3 = (n_e * e**2. * nu_c * np.sin(theta)) / c\n",
      "    ans = term1*term2*term3 * X**(-(kappa-2.)/2.)\n",
      "    return ans\n",
      "\n",
      "def z_fit(nuratio, x):\n",
      "    ans = (1./(1./kappa_low(nuratio)**x + 1./kappa_high(nuratio)**x))**(1./x)\n",
      "    return ans\n",
      "\n",
      "def ap_fit(nuratio):\n",
      "    x = 3 * kappa**(-1.5)\n",
      "    ans = (1./(1./kappa_low(nuratio)**x + 1./kappa_high(nuratio)**x))**(1./x)\n",
      "    return ans\n",
      "\n",
      "print kappa_high(3.981072e6)"
     ],
     "language": "python",
     "metadata": {},
     "outputs": [
      {
       "output_type": "stream",
       "stream": "stdout",
       "text": [
        "7.84263336495e-24\n"
       ]
      }
     ],
     "prompt_number": 67
    },
    {
     "cell_type": "code",
     "collapsed": false,
     "input": [
      "#pl.loglog(x, y, label='data')\n",
      "#pl.loglog(nuratio, kappa_low(nuratio), label='low')\n",
      "#pl.loglog(nuratio, kappa_high(nuratio), label='high')\n",
      "pl.semilogx(x, kappa_high(x)/y-1., label='error')\n",
      "#pl.loglog(nuratio, z_fit(nuratio, z_coeff), label='z')\n",
      "#pl.loglog(nuratio, ap_fit(nuratio), label='both')\n",
      "pl.xlim([1e5, 1e7])\n",
      "pl.ylim([-1., 1])\n",
      "#pl.xlabel(\"$\\\\log_{10}(\\\\nu$/$\\\\nu_c$)\")\n",
      "#pl.ylabel(\"log(j$_\\\\nu$)\")\n",
      "#pl.title('$\\kappa$ Fitting Formulae')\n",
      "pl.legend()"
     ],
     "language": "python",
     "metadata": {},
     "outputs": [
      {
       "metadata": {},
       "output_type": "pyout",
       "prompt_number": 71,
       "text": [
        "<matplotlib.legend.Legend at 0x7fca4bb97250>"
       ]
      },
      {
       "metadata": {},
       "output_type": "display_data",
       "png": "[encoded data removed]",
       "text": [
        "<matplotlib.figure.Figure at 0x7fca4bb971d0>"
       ]
      }
     ],
     "prompt_number": 71
    },
    {
     "cell_type": "code",
     "collapsed": false,
     "input": [],
     "language": "python",
     "metadata": {},
     "outputs": []
    }
   ],
   "metadata": {}
  }
 ]
}